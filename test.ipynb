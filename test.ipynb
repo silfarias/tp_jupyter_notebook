{
 "cells": [
  {
   "cell_type": "markdown",
   "metadata": {},
   "source": [
    "## **Primer Parcial Python**"
   ]
  },
  {
   "cell_type": "markdown",
   "metadata": {},
   "source": [
    "### Ejercio de Algoritmia"
   ]
  },
  {
   "cell_type": "markdown",
   "metadata": {},
   "source": [
    "Se le pide al usuario que ingrese una palabra y se almacena en una variable"
   ]
  },
  {
   "cell_type": "code",
   "execution_count": 12,
   "metadata": {},
   "outputs": [],
   "source": [
    "palabra = str(input('Ingrese una plabra: '))"
   ]
  },
  {
   "cell_type": "markdown",
   "metadata": {},
   "source": [
    "Definimos una funcion que recibe como parametro el string ingresado por el usuario, creo un condicional, si la variable palabra es un string vacio retorna la cadena de caracteres \"Debe ingresar una palabra\", si no retorna la variable capitalizada"
   ]
  },
  {
   "cell_type": "code",
   "execution_count": 13,
   "metadata": {},
   "outputs": [],
   "source": [
    "def capitalizar_palabra(palabra):\n",
    "    if palabra == '':\n",
    "         return 'Debe ingresar una palabra'\n",
    "    else:\n",
    "        return palabra.capitalize()"
   ]
  },
  {
   "cell_type": "markdown",
   "metadata": {},
   "source": [
    "Usamos la función y mostramos por consola "
   ]
  },
  {
   "cell_type": "code",
   "execution_count": 14,
   "metadata": {},
   "outputs": [
    {
     "name": "stdout",
     "output_type": "stream",
     "text": [
      "Silvana\n"
     ]
    }
   ],
   "source": [
    "print(capitalizar_palabra(palabra))"
   ]
  },
  {
   "cell_type": "markdown",
   "metadata": {},
   "source": [
    "### Ejercicio con Pandas"
   ]
  },
  {
   "cell_type": "markdown",
   "metadata": {},
   "source": [
    "Importamos librerias pandas y matplotloib"
   ]
  },
  {
   "cell_type": "code",
   "execution_count": 16,
   "metadata": {},
   "outputs": [],
   "source": [
    "import pandas as pd\n",
    "import matplotlib.pyplot as plt"
   ]
  },
  {
   "cell_type": "markdown",
   "metadata": {},
   "source": [
    "Creamos un una lista de diccionarios con los nombres de los productos, precio y su cantidad disponible y lo almacenamos en la variable productos"
   ]
  },
  {
   "cell_type": "code",
   "execution_count": 17,
   "metadata": {},
   "outputs": [],
   "source": [
    "productos = [\n",
    "    {\"nombre\": \"Camiseta\", \"precio\": 20, \"cantidad_disponible\": 100},\n",
    "    {\"nombre\": \"Pantalón\", \"precio\": 30, \"cantidad_disponible\": 80},\n",
    "    {\"nombre\": \"Zapatos\", \"precio\": 50, \"cantidad_disponible\": 50},\n",
    "    {\"nombre\": \"Reloj\", \"precio\": 100, \"cantidad_disponible\": 30},\n",
    "    {\"nombre\": \"Gorra\", \"precio\": 15, \"cantidad_disponible\": 120},\n",
    "    {\"nombre\": \"Bufanda\", \"precio\": 25, \"cantidad_disponible\": 60},\n",
    "    {\"nombre\": \"Sudadera\", \"precio\": 40, \"cantidad_disponible\": 70},\n",
    "    {\"nombre\": \"Bolsa\", \"precio\": 35, \"cantidad_disponible\": 90},\n",
    "    {\"nombre\": \"Chaqueta\", \"precio\": 80, \"cantidad_disponible\": 40},\n",
    "    {\"nombre\": \"Gafas de sol\", \"precio\": 45, \"cantidad_disponible\": 25},\n",
    "    {\"nombre\": \"Calcetines\", \"precio\": 10, \"cantidad_disponible\": 150},\n",
    "    {\"nombre\": \"Sombrero\", \"precio\": 20, \"cantidad_disponible\": 55},\n",
    "    {\"nombre\": \"Pulsera\", \"precio\": 5, \"cantidad_disponible\": 200},\n",
    "    {\"nombre\": \"Pendientes\", \"precio\": 15, \"cantidad_disponible\": 180},\n",
    "    {\"nombre\": \"Cinturón\", \"precio\": 20, \"cantidad_disponible\": 100},\n",
    "    {\"nombre\": \"Vestido\", \"precio\": 60, \"cantidad_disponible\": 35},\n",
    "    {\"nombre\": \"Corbata\", \"precio\": 25, \"cantidad_disponible\": 75},\n",
    "    {\"nombre\": \"Bolso\", \"precio\": 70, \"cantidad_disponible\": 45},\n",
    "    {\"nombre\": \"Paraguas\", \"precio\": 30, \"cantidad_disponible\": 65},\n",
    "    {\"nombre\": \"Collar\", \"precio\": 40, \"cantidad_disponible\": 85},\n",
    "]"
   ]
  },
  {
   "cell_type": "markdown",
   "metadata": {},
   "source": [
    "Creamos un DataFrame con la lista productos"
   ]
  },
  {
   "cell_type": "code",
   "execution_count": 18,
   "metadata": {},
   "outputs": [],
   "source": [
    "df = pd.DataFrame(data=productos)"
   ]
  },
  {
   "cell_type": "markdown",
   "metadata": {},
   "source": [
    "Definimos una función en la que tomamos el dataframe, multiplicamos precio por producto y lo definimos en una nueva columna del llamada \"valor total por producto\""
   ]
  },
  {
   "cell_type": "code",
   "execution_count": 19,
   "metadata": {},
   "outputs": [],
   "source": [
    "def calculo_valor_producto():\n",
    "    df['valor total por producto'] = df['precio'] * df['cantidad_disponible']\n",
    "    return df"
   ]
  },
  {
   "cell_type": "markdown",
   "metadata": {},
   "source": [
    "Almacenamos la funcion de calculo en una variable y lo mostramos por consola"
   ]
  },
  {
   "cell_type": "code",
   "execution_count": 20,
   "metadata": {},
   "outputs": [
    {
     "name": "stdout",
     "output_type": "stream",
     "text": [
      "          nombre  precio  cantidad_disponible  valor total por producto\n",
      "0       Camiseta      20                  100                      2000\n",
      "1       Pantalón      30                   80                      2400\n",
      "2        Zapatos      50                   50                      2500\n",
      "3          Reloj     100                   30                      3000\n",
      "4          Gorra      15                  120                      1800\n",
      "5        Bufanda      25                   60                      1500\n",
      "6       Sudadera      40                   70                      2800\n",
      "7          Bolsa      35                   90                      3150\n",
      "8       Chaqueta      80                   40                      3200\n",
      "9   Gafas de sol      45                   25                      1125\n",
      "10    Calcetines      10                  150                      1500\n",
      "11      Sombrero      20                   55                      1100\n",
      "12       Pulsera       5                  200                      1000\n",
      "13    Pendientes      15                  180                      2700\n",
      "14      Cinturón      20                  100                      2000\n",
      "15       Vestido      60                   35                      2100\n",
      "16       Corbata      25                   75                      1875\n",
      "17         Bolso      70                   45                      3150\n",
      "18      Paraguas      30                   65                      1950\n",
      "19        Collar      40                   85                      3400\n"
     ]
    }
   ],
   "source": [
    "valor_total_por_producto = calculo_valor_producto()\n",
    "print(valor_total_por_producto)"
   ]
  },
  {
   "cell_type": "markdown",
   "metadata": {},
   "source": [
    "Definimos una funcion para cálcular el valor total del inventario sumando el valor total de cada producto y luego lo retornamos"
   ]
  },
  {
   "cell_type": "code",
   "execution_count": 21,
   "metadata": {},
   "outputs": [],
   "source": [
    "def calculo_valor_total():\n",
    "    valor_total = df[\"valor total por producto\"].sum()\n",
    "    return valor_total\n",
    "\n",
    "valor_total = calculo_valor_total()"
   ]
  },
  {
   "cell_type": "markdown",
   "metadata": {},
   "source": [
    "Definimos una funcion y creamos una nueva lista de diccionarios con simulaciones de ventas de algunos productos. Iteremos sobre la lista en un bucle for, creamos dos variables donde se almacenan el nombre del producto y la cantidad vendida. Luego retornamos el DataFrame con los elementos que se encuentran en las filas y columnas especificadas."
   ]
  },
  {
   "cell_type": "code",
   "execution_count": 22,
   "metadata": {},
   "outputs": [],
   "source": [
    "def simulacion_ventas():\n",
    "    ventas_simuladas = [\n",
    "        {\"nombre\": \"Chaqueta\", \"cantidad_vendida\": 9},\n",
    "        {\"nombre\": \"Pantalón\", \"cantidad_vendida\": 6},\n",
    "        {\"nombre\": \"Bolso\", \"cantidad_vendida\": 10},\n",
    "        {\"nombre\": \"Sombrero\", \"cantidad_vendida\": 12},\n",
    "    ]\n",
    "    for venta in ventas_simuladas: \n",
    "        nombre_prod = venta['nombre']\n",
    "        cant_vendida = venta[\"cantidad_vendida\"]\n",
    "        df.loc[df['nombre'] == nombre_prod, 'cantidad_disponible'] -= cant_vendida\n",
    "    return df"
   ]
  },
  {
   "cell_type": "markdown",
   "metadata": {},
   "source": [
    "Mostramos la cantidad restante de cada producto despues de la simulacion de ventas"
   ]
  },
  {
   "cell_type": "code",
   "execution_count": 23,
   "metadata": {},
   "outputs": [
    {
     "name": "stdout",
     "output_type": "stream",
     "text": [
      "          nombre  precio  cantidad_disponible  valor total por producto\n",
      "0       Camiseta      20                  100                      2000\n",
      "1       Pantalón      30                   74                      2400\n",
      "2        Zapatos      50                   50                      2500\n",
      "3          Reloj     100                   30                      3000\n",
      "4          Gorra      15                  120                      1800\n",
      "5        Bufanda      25                   60                      1500\n",
      "6       Sudadera      40                   70                      2800\n",
      "7          Bolsa      35                   90                      3150\n",
      "8       Chaqueta      80                   31                      3200\n",
      "9   Gafas de sol      45                   25                      1125\n",
      "10    Calcetines      10                  150                      1500\n",
      "11      Sombrero      20                   43                      1100\n",
      "12       Pulsera       5                  200                      1000\n",
      "13    Pendientes      15                  180                      2700\n",
      "14      Cinturón      20                  100                      2000\n",
      "15       Vestido      60                   35                      2100\n",
      "16       Corbata      25                   75                      1875\n",
      "17         Bolso      70                   35                      3150\n",
      "18      Paraguas      30                   65                      1950\n",
      "19        Collar      40                   85                      3400\n"
     ]
    }
   ],
   "source": [
    "simulacion = simulacion_ventas()\n",
    "print(simulacion)\n"
   ]
  },
  {
   "cell_type": "markdown",
   "metadata": {},
   "source": [
    "Declaramos una nueva función y creamos nuevo DataFrame, en la que asignamos las columnas nombre y cantidad disponible de los productos actualizada despues de la simulación de ventas y lo retornamos. Almacenamos la función en una variable y lo mostramos por consola"
   ]
  },
  {
   "cell_type": "code",
   "execution_count": 24,
   "metadata": {},
   "outputs": [
    {
     "name": "stdout",
     "output_type": "stream",
     "text": [
      "          nombre  cantidad_disponible\n",
      "0       Camiseta                  100\n",
      "1       Pantalón                   74\n",
      "2        Zapatos                   50\n",
      "3          Reloj                   30\n",
      "4          Gorra                  120\n",
      "5        Bufanda                   60\n",
      "6       Sudadera                   70\n",
      "7          Bolsa                   90\n",
      "8       Chaqueta                   31\n",
      "9   Gafas de sol                   25\n",
      "10    Calcetines                  150\n",
      "11      Sombrero                   43\n",
      "12       Pulsera                  200\n",
      "13    Pendientes                  180\n",
      "14      Cinturón                  100\n",
      "15       Vestido                   35\n",
      "16       Corbata                   75\n",
      "17         Bolso                   35\n",
      "18      Paraguas                   65\n",
      "19        Collar                   85\n"
     ]
    }
   ],
   "source": [
    "def new_data_drame():\n",
    "    df = pd.DataFrame(simulacion, columns=['nombre', 'cantidad_disponible'])\n",
    "    return df\n",
    "\n",
    "\n",
    "nuevo_df = new_data_drame()\n",
    "print(nuevo_df)"
   ]
  },
  {
   "cell_type": "markdown",
   "metadata": {},
   "source": [
    "Utilizando la libreria de Matplotlib definimos una función, creamos la figura y los ejes, utilizamos el nuevo df y obtenemos sus columnas para los ejes, agregamos titulo al gráfico y nombres para ambos ejes. Luego lo ejecutamos."
   ]
  },
  {
   "cell_type": "code",
   "execution_count": 25,
   "metadata": {},
   "outputs": [
    {
     "data": {
      "image/png": "[encoded data removed]",
      "text/plain": [
       "<Figure size 640x480 with 1 Axes>"
      ]
     },
     "metadata": {},
     "output_type": "display_data"
    }
   ],
   "source": [
    "def grafico():\n",
    "    fig, ax = plt.subplots()\n",
    "    ax.plot(nuevo_df['nombre'], nuevo_df['cantidad_disponible'])\n",
    "    plt.title('Cantidad de Productos Disponibles')\n",
    "    plt.xlabel('Productos')\n",
    "    plt.ylabel('Cantidad Disponible')\n",
    "    plt.show()\n",
    "    \n",
    "grafico()"
   ]
  }
 ],
 "metadata": {
  "kernelspec": {
   "display_name": "my-env",
   "language": "python",
   "name": "python3"
  },
  "language_info": {
   "codemirror_mode": {
    "name": "ipython",
    "version": 3
   },
   "file_extension": ".py",
   "mimetype": "text/x-python",
   "name": "python",
   "nbconvert_exporter": "python",
   "pygments_lexer": "ipython3",
   "version": "3.12.3"
  }
 },
 "nbformat": 4,
 "nbformat_minor": 2
}
